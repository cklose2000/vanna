{
  "nbformat": 4,
  "nbformat_minor": 0,
  "metadata": {
    "colab": {
      "provenance": [],
      "authorship_tag": "ABX9TyM241Zpf7Pkxrgo8DlfGyQ1",
      "include_colab_link": true
    },
    "kernelspec": {
      "name": "python3",
      "display_name": "Python 3"
    },
    "language_info": {
      "name": "python"
    }
  },
  "cells": [
    {
      "cell_type": "markdown",
      "metadata": {
        "id": "view-in-github",
        "colab_type": "text"
      },
      "source": [
        "<a href=\"https://colab.research.google.com/github/cklose2000/vanna/blob/main/OpenAI_Assistant_Test1.ipynb\" target=\"_parent\"><img src=\"https://colab.research.google.com/assets/colab-badge.svg\" alt=\"Open In Colab\"/></a>"
      ]
    },
    {
      "cell_type": "code",
      "execution_count": null,
      "metadata": {
        "id": "kAITrQKLzDGq"
      },
      "outputs": [],
      "source": [
        "\n",
        "\n",
        "# NeonDB Assistant ID: asst_COdQ9VHjXSBbMdgoOIjbpcm6\n",
        "!npm init -y\n"
      ]
    },
    {
      "cell_type": "code",
      "source": [
        "!npm install openai dotenv"
      ],
      "metadata": {
        "id": "8biNyRTXzzCL"
      },
      "execution_count": null,
      "outputs": []
    }
  ]
}